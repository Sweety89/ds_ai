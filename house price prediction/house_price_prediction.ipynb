{
 "cells": [
  {
   "cell_type": "markdown",
   "id": "44b6364b-4716-4848-b875-fc2563e39372",
   "metadata": {},
   "source": [
    "## House Price Prediction Project\n",
    "The objective of this project is to predict house prices based on various features using different machine learning models and evaluate their accuracy. We will compare the performance of models such as Linear Regression, Random Forest.\n"
   ]
  },
  {
   "cell_type": "markdown",
   "id": "e12b6fa0-a265-43da-9505-1d3d2334d42b",
   "metadata": {},
   "source": [
    "### Data Loading and Exploration"
   ]
  },
  {
   "cell_type": "code",
   "execution_count": 1,
   "id": "dddf93d5-f9e6-47ca-b89d-2f0b7b97984f",
   "metadata": {},
   "outputs": [
    {
     "data": {
      "text/plain": [
       "PoolQC          1453\n",
       "MiscFeature     1406\n",
       "Alley           1369\n",
       "Fence           1179\n",
       "MasVnrType       872\n",
       "FireplaceQu      690\n",
       "LotFrontage      259\n",
       "GarageYrBlt       81\n",
       "GarageCond        81\n",
       "GarageType        81\n",
       "GarageFinish      81\n",
       "GarageQual        81\n",
       "BsmtFinType2      38\n",
       "BsmtExposure      38\n",
       "BsmtQual          37\n",
       "BsmtCond          37\n",
       "BsmtFinType1      37\n",
       "MasVnrArea         8\n",
       "Electrical         1\n",
       "Id                 0\n",
       "dtype: int64"
      ]
     },
     "execution_count": 1,
     "metadata": {},
     "output_type": "execute_result"
    }
   ],
   "source": [
    "import pandas as pd\n",
    "train_df = pd.read_csv('train.csv')\n",
    "# Checking the data\n",
    "train_df.head()\n",
    "train_df.describe()\n",
    "train_df.isnull().sum().sort_values(ascending=False).head(20)\n"
   ]
  },
  {
   "cell_type": "markdown",
   "id": "4cc01bb7-bfa8-4dee-a885-fde723d74fe0",
   "metadata": {},
   "source": [
    "## Data Preprocessing\r\n",
    "In this section, we handle missing values and encode categorical features to make the dataset suitable for machine learning models. \r\n",
    "Numerical columns are imputed using the median, and categorical columns are encoded using one-hot encoding.\r\n"
   ]
  },
  {
   "cell_type": "code",
   "execution_count": 9,
   "id": "6fe022fe-a622-4049-938d-a641b06d6e3a",
   "metadata": {},
   "outputs": [],
   "source": [
    "from sklearn.model_selection import train_test_split\n",
    "from sklearn.impute import SimpleImputer\n",
    "from sklearn.preprocessing import OneHotEncoder, StandardScaler\n",
    "from sklearn.compose import ColumnTransformer\n",
    "from sklearn.pipeline import Pipeline"
   ]
  },
  {
   "cell_type": "code",
   "execution_count": 10,
   "id": "62764328-f7df-4478-9869-9933868f13c2",
   "metadata": {},
   "outputs": [],
   "source": [
    "# Separate the target variable (SalePrice) from the features\n",
    "X = train_df.drop(columns=['SalePrice'])  # Dropping target variable\n",
    "y = train_df['SalePrice']  # Target variable\n",
    "\n",
    "# Identifying the categorical and numerical columns\n",
    "categorical_cols = X.select_dtypes(include=['object']).columns\n",
    "numerical_cols = X.select_dtypes(include=['int64', 'float64']).columns\n",
    "\n",
    "# Create pipelines for numerical and categorical data\n",
    "# Imputing missing numerical values with the median and scaling the data\n",
    "numerical_transformer = Pipeline(steps=[\n",
    "    ('imputer', SimpleImputer(strategy='median')),\n",
    "    ('scaler', StandardScaler())\n",
    "])\n",
    "\n",
    "# Imputing missing categorical values with the most frequent value and encoding\n",
    "categorical_transformer = Pipeline(steps=[\n",
    "    ('imputer', SimpleImputer(strategy='most_frequent')),\n",
    "    ('onehot', OneHotEncoder(handle_unknown='ignore'))\n",
    "])\n",
    "\n",
    "# Combining both transformers into a single preprocessor\n",
    "preprocessor = ColumnTransformer(transformers=[\n",
    "    ('num', numerical_transformer, numerical_cols),\n",
    "    ('cat', categorical_transformer, categorical_cols)\n",
    "])\n",
    "\n",
    "# Splitting the dataset into training and validation sets (80% training, 20% validation)\n",
    "X_train, X_val, y_train, y_val = train_test_split(X, y, test_size=0.2, random_state=42)\n"
   ]
  },
  {
   "cell_type": "markdown",
   "id": "465f3d90-fa66-44a2-91bf-760d1f9a03a3",
   "metadata": {},
   "source": [
    "###  Model Development\n"
   ]
  },
  {
   "cell_type": "markdown",
   "id": "cd771b8a-eea2-4543-b820-073652e049b1",
   "metadata": {},
   "source": [
    "#### Linear Regression Model\r\n",
    "We start with a simple linear regression model to establish a baseline. Linear regression assumes a linear relationship between features and the target variable (house prices). We will evaluate its performance using R² and RMSE.\r\n"
   ]
  },
  {
   "cell_type": "code",
   "execution_count": 11,
   "id": "c8690c88-2716-4259-8c61-70f812e78d97",
   "metadata": {},
   "outputs": [
    {
     "name": "stdout",
     "output_type": "stream",
     "text": [
      "Linear Regression R²: 0.8867266045127138\n",
      "Linear Regression RMSE: 29476.158060086516\n"
     ]
    }
   ],
   "source": [
    "from sklearn.linear_model import LinearRegression\n",
    "from sklearn.metrics import mean_squared_error, r2_score\n",
    "\n",
    "# Creating the pipeline for Linear Regression\n",
    "linear_model = Pipeline(steps=[\n",
    "    ('preprocessor', preprocessor),  # Preprocessing step\n",
    "    ('model', LinearRegression())  # Linear Regression model\n",
    "])\n",
    "\n",
    "# Train the model\n",
    "linear_model.fit(X_train, y_train)\n",
    "\n",
    "# Make predictions on the validation set\n",
    "y_pred_linear = linear_model.predict(X_val)\n",
    "\n",
    "# Evaluate the model performance\n",
    "linear_r2 = r2_score(y_val, y_pred_linear)\n",
    "linear_rmse = mean_squared_error(y_val, y_pred_linear, squared=False)\n",
    "\n",
    "# Print out the results\n",
    "print(f'Linear Regression R²: {linear_r2}')\n",
    "print(f'Linear Regression RMSE: {linear_rmse}')\n"
   ]
  },
  {
   "cell_type": "markdown",
   "id": "a3cf910f-dae5-4ab2-8fdd-180964d7fbe8",
   "metadata": {},
   "source": [
    "#### Random Forest Model\r\n",
    "Next, we use a Random Forest model, which is capable of capturing non-linear relationships between features. It also handles feature importance, so we expect better performance compared to linear regression.\r\n"
   ]
  },
  {
   "cell_type": "code",
   "execution_count": 12,
   "id": "c43dea45-7e38-490d-8868-8e414144a0f2",
   "metadata": {},
   "outputs": [
    {
     "name": "stdout",
     "output_type": "stream",
     "text": [
      "Random Forest R²: 0.8939002860298636\n",
      "Random Forest RMSE: 28527.52033809099\n"
     ]
    }
   ],
   "source": [
    "from sklearn.ensemble import RandomForestRegressor\n",
    "\n",
    "# Creating the pipeline for Random Forest\n",
    "rf_model = Pipeline(steps=[\n",
    "    ('preprocessor', preprocessor),  # Preprocessing step\n",
    "    ('model', RandomForestRegressor(n_estimators=100, random_state=42))  # Random Forest model\n",
    "])\n",
    "\n",
    "# Train the Random Forest model\n",
    "rf_model.fit(X_train, y_train)\n",
    "\n",
    "# Make predictions on the validation set\n",
    "y_pred_rf = rf_model.predict(X_val)\n",
    "\n",
    "# Evaluate the Random Forest model\n",
    "rf_r2 = r2_score(y_val, y_pred_rf)\n",
    "rf_rmse = mean_squared_error(y_val, y_pred_rf, squared=False)\n",
    "\n",
    "# Print out the results\n",
    "print(f'Random Forest R²: {rf_r2}')\n",
    "print(f'Random Forest RMSE: {rf_rmse}')\n"
   ]
  },
  {
   "cell_type": "markdown",
   "id": "653bd2d9-3156-4f82-aae7-cc35cd4128dd",
   "metadata": {},
   "source": [
    "#### Model Comparison Using Visualizations"
   ]
  },
  {
   "cell_type": "code",
   "execution_count": 13,
   "id": "710ec1d1-e293-4d0b-9306-956d54f292eb",
   "metadata": {},
   "outputs": [
    {
     "data": {
      "image/png": "[encoded data removed]",
      "text/plain": [
       "<Figure size 1000x600 with 1 Axes>"
      ]
     },
     "metadata": {},
     "output_type": "display_data"
    },
    {
     "data": {
      "image/png": "[encoded data removed]",
      "text/plain": [
       "<Figure size 1000x600 with 1 Axes>"
      ]
     },
     "metadata": {},
     "output_type": "display_data"
    }
   ],
   "source": [
    "import matplotlib.pyplot as plt\n",
    "\n",
    "# Store model names and performance metrics for comparison\n",
    "models = ['Linear Regression', 'Random Forest']\n",
    "r2_scores = [linear_r2, rf_r2]\n",
    "rmse_scores = [linear_rmse, rf_rmse]\n",
    "\n",
    "# Plotting the R² scores for comparison\n",
    "plt.figure(figsize=(10, 6))\n",
    "plt.bar(models, r2_scores, color='lightblue')\n",
    "plt.title('R² Scores Comparison')\n",
    "plt.ylabel('R² Score')\n",
    "plt.show()\n",
    "\n",
    "# Plotting the RMSE scores for comparison\n",
    "plt.figure(figsize=(10, 6))\n",
    "plt.bar(models, rmse_scores, color='salmon')\n",
    "plt.title('RMSE Comparison')\n",
    "plt.ylabel('RMSE')\n",
    "plt.show()\n"
   ]
  },
  {
   "cell_type": "markdown",
   "id": "6989a554-3eda-40b8-ad2b-e735410fb96e",
   "metadata": {},
   "source": [
    "We can see the plotted the R² scores to check how well each model captures the variance in house prices. The closer to 1, the better.\n",
    "The comparison of RMSE scores (lower values indicate better performance) also helps.\n",
    "\n",
    "We can see here random forest performs better in both cases."
   ]
  },
  {
   "cell_type": "markdown",
   "id": "797b414b-665f-4201-826c-919e78ad0d79",
   "metadata": {},
   "source": [
    "## Conclusion\r\n",
    "After comparing the performance of Linear Regression and Random Forest, we find that Random Forest performs slightly better in terms of both R² and RMSE. This suggests that the data has non-linear relationships, which Random Forest can capture effectively.\r\n"
   ]
  }
 ],
 "metadata": {
  "kernelspec": {
   "display_name": "Python 3 (ipykernel)",
   "language": "python",
   "name": "python3"
  },
  "language_info": {
   "codemirror_mode": {
    "name": "ipython",
    "version": 3
   },
   "file_extension": ".py",
   "mimetype": "text/x-python",
   "name": "python",
   "nbconvert_exporter": "python",
   "pygments_lexer": "ipython3",
   "version": "3.10.9"
  }
 },
 "nbformat": 4,
 "nbformat_minor": 5
}
