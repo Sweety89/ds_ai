{
 "cells": [
  {
   "cell_type": "markdown",
   "id": "000b6530-586f-427c-9cf2-9cbf230c2940",
   "metadata": {},
   "source": [
    "### Loading and exploring the data"
   ]
  },
  {
   "cell_type": "code",
   "execution_count": 1,
   "id": "980500be-36c7-462e-bab9-ede2c65a0e74",
   "metadata": {},
   "outputs": [
    {
     "data": {
      "text/plain": [
       "id                     0\n",
       "user_name              0\n",
       "user_location       4854\n",
       "user_description    4482\n",
       "user_created           0\n",
       "user_followers         0\n",
       "user_friends           0\n",
       "user_favourites        0\n",
       "user_verified          0\n",
       "date                   0\n",
       "text                   0\n",
       "hashtags            5902\n",
       "source                 0\n",
       "retweets               0\n",
       "favorites              0\n",
       "is_retweet             0\n",
       "dtype: int64"
      ]
     },
     "execution_count": 1,
     "metadata": {},
     "output_type": "execute_result"
    }
   ],
   "source": [
    "# Loading the dataset and exploring it\n",
    "import pandas as pd\n",
    "tweets_df = pd.read_csv('elon_musk_tweets.csv')\n",
    "tweets_df.head()\n",
    "tweets_df.isnull().sum()\n",
    "# the main focus is on the 'text' column for sentiment analysis"
   ]
  },
  {
   "cell_type": "markdown",
   "id": "1ba5132c-2c5b-44d1-af5e-2f61d0d5a528",
   "metadata": {},
   "source": [
    "### Text Preprocessing"
   ]
  },
  {
   "cell_type": "code",
   "execution_count": 2,
   "id": "7af91e23-2c07-4036-9fa9-af80fd5becca",
   "metadata": {},
   "outputs": [
    {
     "name": "stderr",
     "output_type": "stream",
     "text": [
      "[nltk_data] Downloading package stopwords to\n",
      "[nltk_data]     C:\\Users\\sweet\\AppData\\Roaming\\nltk_data...\n",
      "[nltk_data]   Package stopwords is already up-to-date!\n"
     ]
    },
    {
     "data": {
      "text/html": [
       "<div>\n",
       "<style scoped>\n",
       "    .dataframe tbody tr th:only-of-type {\n",
       "        vertical-align: middle;\n",
       "    }\n",
       "\n",
       "    .dataframe tbody tr th {\n",
       "        vertical-align: top;\n",
       "    }\n",
       "\n",
       "    .dataframe thead th {\n",
       "        text-align: right;\n",
       "    }\n",
       "</style>\n",
       "<table border=\"1\" class=\"dataframe\">\n",
       "  <thead>\n",
       "    <tr style=\"text-align: right;\">\n",
       "      <th></th>\n",
       "      <th>text</th>\n",
       "      <th>clean_text</th>\n",
       "    </tr>\n",
       "  </thead>\n",
       "  <tbody>\n",
       "    <tr>\n",
       "      <th>0</th>\n",
       "      <td>@BillyM2k I find the gold toe sock – inevitabl...</td>\n",
       "      <td>find gold toe sock inevitably kilter amp washe...</td>\n",
       "    </tr>\n",
       "    <tr>\n",
       "      <th>1</th>\n",
       "      <td>Sock Con, the conference for socks</td>\n",
       "      <td>sock con conference socks</td>\n",
       "    </tr>\n",
       "    <tr>\n",
       "      <th>2</th>\n",
       "      <td>Always something new for the magazine cover an...</td>\n",
       "      <td>always something new magazine cover articles p...</td>\n",
       "    </tr>\n",
       "    <tr>\n",
       "      <th>3</th>\n",
       "      <td>@ExplainThisBob This guy gets it</td>\n",
       "      <td>guy gets</td>\n",
       "    </tr>\n",
       "    <tr>\n",
       "      <th>4</th>\n",
       "      <td>Sock tech is so advanced that you can get pret...</td>\n",
       "      <td>sock tech advanced get pretty much anything so...</td>\n",
       "    </tr>\n",
       "  </tbody>\n",
       "</table>\n",
       "</div>"
      ],
      "text/plain": [
       "                                                text  \\\n",
       "0  @BillyM2k I find the gold toe sock – inevitabl...   \n",
       "1                 Sock Con, the conference for socks   \n",
       "2  Always something new for the magazine cover an...   \n",
       "3                   @ExplainThisBob This guy gets it   \n",
       "4  Sock tech is so advanced that you can get pret...   \n",
       "\n",
       "                                          clean_text  \n",
       "0  find gold toe sock inevitably kilter amp washe...  \n",
       "1                          sock con conference socks  \n",
       "2  always something new magazine cover articles p...  \n",
       "3                                           guy gets  \n",
       "4  sock tech advanced get pretty much anything so...  "
      ]
     },
     "execution_count": 2,
     "metadata": {},
     "output_type": "execute_result"
    }
   ],
   "source": [
    "import re\n",
    "from nltk.corpus import stopwords\n",
    "import nltk\n",
    "\n",
    "# Download NLTK stopwords if not already installed\n",
    "nltk.download('stopwords')\n",
    "\n",
    "# Load the stopwords list\n",
    "stop_words = set(stopwords.words('english'))\n",
    "\n",
    "# Function to clean and preprocess the text\n",
    "def preprocess_text(text):\n",
    "    # Convert text to lowercase\n",
    "    text = text.lower()\n",
    "    \n",
    "    # Remove URLs and special characters\n",
    "    text = re.sub(r'http\\S+|www\\S+|https\\S+', '', text, flags=re.MULTILINE)\n",
    "    \n",
    "    # Remove mentions (@username) and hashtags\n",
    "    text = re.sub(r'\\@\\w+|\\#', '', text)\n",
    "    \n",
    "    # Remove punctuations and numbers\n",
    "    text = re.sub(r'[^A-Za-z\\s]', '', text)\n",
    "    \n",
    "    # Tokenize the text\n",
    "    words = text.split()\n",
    "    \n",
    "    # Remove stopwords\n",
    "    words = [word for word in words if word not in stop_words]\n",
    "    \n",
    "    return ' '.join(words)\n",
    "\n",
    "# Apply the preprocessing to the 'text' column\n",
    "tweets_df['clean_text'] = tweets_df['text'].apply(preprocess_text)\n",
    "\n",
    "# Display the cleaned text\n",
    "tweets_df[['text', 'clean_text']].head()\n"
   ]
  },
  {
   "cell_type": "markdown",
   "id": "f334be52-b638-4167-91ad-464fe1dbbdfd",
   "metadata": {},
   "source": [
    "### Feature Extraction using TF-IDF"
   ]
  },
  {
   "cell_type": "code",
   "execution_count": 3,
   "id": "d03cc84d-03d8-49bd-af33-4820677c1236",
   "metadata": {},
   "outputs": [
    {
     "data": {
      "text/plain": [
       "(5904, 5000)"
      ]
     },
     "execution_count": 3,
     "metadata": {},
     "output_type": "execute_result"
    }
   ],
   "source": [
    "from sklearn.feature_extraction.text import TfidfVectorizer\n",
    "\n",
    "# Initialize the TF-IDF vectorizer\n",
    "tfidf = TfidfVectorizer(max_features=5000)  # Limiting to top 5000 words\n",
    "\n",
    "# Fit and transform the cleaned text\n",
    "X_tfidf = tfidf.fit_transform(tweets_df['clean_text'])\n",
    "\n",
    "# Display the TF-IDF features (Sparse Matrix format)\n",
    "X_tfidf.shape\n"
   ]
  },
  {
   "cell_type": "markdown",
   "id": "07489d15-df25-46ff-a759-b0981dd2554e",
   "metadata": {},
   "source": [
    "### Sentiment Labeling and Train-Test Split\n",
    "Since we don’t have labeled data, we’ll randomly assign \"positive\" and \"negative\" sentiments to simulate the sentiment analysis task."
   ]
  },
  {
   "cell_type": "code",
   "execution_count": 4,
   "id": "4f68745f-122a-4f87-a293-60015073e0eb",
   "metadata": {},
   "outputs": [],
   "source": [
    "from sklearn.model_selection import train_test_split\n",
    "import numpy as np\n",
    "\n",
    "# Simulate a sentiment label (randomly assigning positive/negative sentiment)\n",
    "np.random.seed(42)  # For reproducibility\n",
    "tweets_df['sentiment'] = np.random.choice(['positive', 'negative'], size=len(tweets_df))\n",
    "X_train, X_test, y_train, y_test = train_test_split(X_tfidf, tweets_df['sentiment'], test_size=0.2, random_state=42)"
   ]
  },
  {
   "cell_type": "markdown",
   "id": "8d5d3acd-eac9-4445-a4b9-eba2637618f4",
   "metadata": {},
   "source": [
    "### Modeling with Logistic Regression\n",
    "Logistic Regression is a simple yet effective model for binary classification problems like sentiment analysis."
   ]
  },
  {
   "cell_type": "code",
   "execution_count": 5,
   "id": "812a8dd5-ae5e-44f0-a435-19dc93571612",
   "metadata": {},
   "outputs": [
    {
     "name": "stdout",
     "output_type": "stream",
     "text": [
      "Accuracy: 0.506350550381033\n",
      "Classification Report:\n",
      "              precision    recall  f1-score   support\n",
      "\n",
      "    negative       0.48      0.54      0.51       561\n",
      "    positive       0.53      0.48      0.50       620\n",
      "\n",
      "    accuracy                           0.51      1181\n",
      "   macro avg       0.51      0.51      0.51      1181\n",
      "weighted avg       0.51      0.51      0.51      1181\n",
      "\n"
     ]
    }
   ],
   "source": [
    "from sklearn.linear_model import LogisticRegression\n",
    "from sklearn.metrics import accuracy_score, classification_report\n",
    "\n",
    "# Initialize the Logistic Regression model\n",
    "model = LogisticRegression()\n",
    "\n",
    "# Train the model\n",
    "model.fit(X_train, y_train)\n",
    "\n",
    "# Make predictions on the test set\n",
    "y_pred = model.predict(X_test)\n",
    "\n",
    "# Evaluate the model's performance\n",
    "accuracy = accuracy_score(y_test, y_pred)\n",
    "classification_rep = classification_report(y_test, y_pred)\n",
    "\n",
    "print(f'Accuracy: {accuracy}')\n",
    "print(f'Classification Report:\\n{classification_rep}')"
   ]
  },
  {
   "cell_type": "markdown",
   "id": "8c480856-cd6b-43cd-8d05-562e523d4c81",
   "metadata": {},
   "source": [
    "### Modeling with Naive Bayes\n",
    "Naive Bayes works well for text classification and is often used for sentiment analysis."
   ]
  },
  {
   "cell_type": "code",
   "execution_count": 6,
   "id": "505daf38-0768-4b18-9ad5-2e5946a7019f",
   "metadata": {},
   "outputs": [
    {
     "name": "stdout",
     "output_type": "stream",
     "text": [
      "Naive Bayes Performance:\n",
      "Accuracy: 0.5139712108382727\n",
      "Classification Report:\n",
      "              precision    recall  f1-score   support\n",
      "\n",
      "    negative       0.49      0.54      0.51       561\n",
      "    positive       0.54      0.49      0.52       620\n",
      "\n",
      "    accuracy                           0.51      1181\n",
      "   macro avg       0.52      0.52      0.51      1181\n",
      "weighted avg       0.52      0.51      0.51      1181\n",
      "\n"
     ]
    }
   ],
   "source": [
    "from sklearn.naive_bayes import MultinomialNB\n",
    "\n",
    "# Train Naive Bayes model\n",
    "nb_model = MultinomialNB()\n",
    "nb_model.fit(X_train, y_train)\n",
    "\n",
    "# Make predictions\n",
    "nb_pred = nb_model.predict(X_test)\n",
    "\n",
    "# Evaluate the model\n",
    "print(\"Naive Bayes Performance:\")\n",
    "print(f\"Accuracy: {accuracy_score(y_test, nb_pred)}\")\n",
    "print(f\"Classification Report:\\n{classification_report(y_test, nb_pred)}\")"
   ]
  },
  {
   "cell_type": "markdown",
   "id": "3314a283-1669-414f-b8c0-c1f59c467755",
   "metadata": {},
   "source": [
    "### Modeling with Support Vector Machine (SVM)\n",
    "SVM is another powerful model used in text classification. It’s particularly effective in high-dimensional spaces like text data."
   ]
  },
  {
   "cell_type": "code",
   "execution_count": 7,
   "id": "e000c16c-c6a0-4597-80ff-6e55641aed8a",
   "metadata": {},
   "outputs": [
    {
     "name": "stdout",
     "output_type": "stream",
     "text": [
      "SVM Performance:\n",
      "Accuracy: 0.5046570702794242\n",
      "Classification Report:\n",
      "              precision    recall  f1-score   support\n",
      "\n",
      "    negative       0.48      0.52      0.50       561\n",
      "    positive       0.53      0.49      0.51       620\n",
      "\n",
      "    accuracy                           0.50      1181\n",
      "   macro avg       0.51      0.51      0.50      1181\n",
      "weighted avg       0.51      0.50      0.50      1181\n",
      "\n"
     ]
    }
   ],
   "source": [
    "from sklearn.svm import SVC\n",
    "\n",
    "# Train SVM model\n",
    "svm_model = SVC(kernel='linear')\n",
    "svm_model.fit(X_train, y_train)\n",
    "\n",
    "# Make predictions\n",
    "svm_pred = svm_model.predict(X_test)\n",
    "\n",
    "# Evaluate the model\n",
    "print(\"SVM Performance:\")\n",
    "print(f\"Accuracy: {accuracy_score(y_test, svm_pred)}\")\n",
    "print(f\"Classification Report:\\n{classification_report(y_test, svm_pred)}\")"
   ]
  },
  {
   "cell_type": "markdown",
   "id": "4c2ab381-6544-4937-b4d1-d97bd0ea313b",
   "metadata": {},
   "source": [
    "### Modeling with Random Forest\n",
    "Random Forest is an ensemble learning method that builds multiple decision trees and aggregates their results for improved accuracy and robustness."
   ]
  },
  {
   "cell_type": "code",
   "execution_count": 8,
   "id": "975c354f-a026-4cbd-97cd-930ecc2acbad",
   "metadata": {},
   "outputs": [
    {
     "name": "stdout",
     "output_type": "stream",
     "text": [
      "Random Forest Performance:\n",
      "Accuracy: 0.519051651143099\n",
      "Classification Report:\n",
      "              precision    recall  f1-score   support\n",
      "\n",
      "    negative       0.49      0.58      0.54       561\n",
      "    positive       0.55      0.46      0.50       620\n",
      "\n",
      "    accuracy                           0.52      1181\n",
      "   macro avg       0.52      0.52      0.52      1181\n",
      "weighted avg       0.52      0.52      0.52      1181\n",
      "\n"
     ]
    }
   ],
   "source": [
    "from sklearn.ensemble import RandomForestClassifier\n",
    "\n",
    "# Train Random Forest model\n",
    "rf_model = RandomForestClassifier(n_estimators=100, random_state=42)\n",
    "rf_model.fit(X_train, y_train)\n",
    "\n",
    "# Make predictions\n",
    "rf_pred = rf_model.predict(X_test)\n",
    "\n",
    "# Evaluate the model\n",
    "print(\"Random Forest Performance:\")\n",
    "print(f\"Accuracy: {accuracy_score(y_test, rf_pred)}\")\n",
    "print(f\"Classification Report:\\n{classification_report(y_test, rf_pred)}\")"
   ]
  },
  {
   "cell_type": "markdown",
   "id": "6e4c99c2-c4cd-4d91-9e03-cd3d1e9d6a0d",
   "metadata": {},
   "source": [
    "### Model Comparison\n",
    "Now that we've tested multiple models, let’s compare their performance using accuracy as the main metric."
   ]
  },
  {
   "cell_type": "code",
   "execution_count": 9,
   "id": "003083c9-7613-4757-9289-0fb7b2f3d521",
   "metadata": {},
   "outputs": [
    {
     "data": {
      "image/png": "[encoded data removed]",
      "text/plain": [
       "<Figure size 1000x600 with 1 Axes>"
      ]
     },
     "metadata": {},
     "output_type": "display_data"
    }
   ],
   "source": [
    "import matplotlib.pyplot as plt\n",
    "\n",
    "# Store model names and accuracy scores\n",
    "models = ['Logistic Regression', 'Naive Bayes', 'SVM', 'Random Forest']\n",
    "accuracies = [\n",
    "    accuracy_score(y_test, y_pred),\n",
    "    accuracy_score(y_test, nb_pred),\n",
    "    accuracy_score(y_test, svm_pred),\n",
    "    accuracy_score(y_test, rf_pred)\n",
    "]\n",
    "\n",
    "# Define pastel colors\n",
    "pastel_colors = ['#AEC6CF', '#77DD77', '#FFB347', '#FF6961'] \n",
    "\n",
    "# Plot model accuracy comparison\n",
    "plt.figure(figsize=(10, 6))\n",
    "plt.bar(models, accuracies, color=pastel_colors)\n",
    "plt.title('Model Accuracy Comparison')\n",
    "plt.ylabel('Accuracy')\n",
    "plt.show()\n"
   ]
  },
  {
   "cell_type": "markdown",
   "id": "c43bda60-c745-40d6-a1dc-24b091e061b8",
   "metadata": {},
   "source": [
    "### Model Evaluation - Confusion Matrix\n",
    "Visualize the performance of the models using a confusion matrix."
   ]
  },
  {
   "cell_type": "code",
   "execution_count": 10,
   "id": "a2c05dc9-8599-4353-a482-71f12d05a9b6",
   "metadata": {},
   "outputs": [
    {
     "data": {
      "image/png": "[encoded data removed]",
      "text/plain": [
       "<Figure size 800x600 with 2 Axes>"
      ]
     },
     "metadata": {},
     "output_type": "display_data"
    }
   ],
   "source": [
    "from sklearn.metrics import confusion_matrix\n",
    "import seaborn as sns\n",
    "import matplotlib.pyplot as plt\n",
    "\n",
    "# Compute the confusion matrix for the Random Forest (can replace with other models)\n",
    "conf_matrix = confusion_matrix(y_test, rf_pred)\n",
    "\n",
    "# Plot the confusion matrix\n",
    "plt.figure(figsize=(8, 6))\n",
    "sns.heatmap(conf_matrix, annot=True, fmt='d', cmap='Blues', xticklabels=['Negative', 'Positive'], yticklabels=['Negative', 'Positive'])\n",
    "plt.xlabel('Predicted Label')\n",
    "plt.ylabel('True Label')\n",
    "plt.title('Confusion Matrix')\n",
    "plt.show()\n"
   ]
  },
  {
   "cell_type": "markdown",
   "id": "aa8f4477-6fca-49a9-a132-70bb781ea825",
   "metadata": {},
   "source": [
    "### Conclusion\n",
    "In this project, we performed sentiment analysis on Elon Musk's tweets using several machine learning models:\n",
    "\n",
    "Logistic Regression\n",
    "Naive Bayes\n",
    "Support Vector Machine (SVM)\n",
    "Random Forest\n",
    "##### Model Performance:\n",
    "The models achieved accuracy between 50.47% and 51.91%, with Random Forest performing the best.\n",
    "The confusion matrix indicated a significant number of misclassifications between positive and negative sentiments, suggesting further improvements are needed.\n",
    "##### Potential Improvements:\n",
    "1. Hyperparameter Tuning: Optimizing the Random Forest model with techniques like Grid Search could improve its performance.\n",
    "2. Handling Class Imbalance: Using techniques like Class Weighting or SMOTE (Synthetic Minority Over-sampling) could help address class imbalance and improve model accuracy.\n",
    "3. Advanced Models: In the future, models like LSTM or BERT could capture more complex relationships in the data, likely improving sentiment classification accuracy.\n",
    "4. More Data: Collecting more labeled data could help all models generalize better.\n",
    "Overall, Random Forest showed the best performance, but addressing class imbalance and exploring more advanced models could lead to even better results."
   ]
  },
  {
   "cell_type": "code",
   "execution_count": null,
   "id": "e27c45c4-24b0-45e3-92b6-2bef9bfd731d",
   "metadata": {},
   "outputs": [],
   "source": []
  }
 ],
 "metadata": {
  "kernelspec": {
   "display_name": "Python 3 (ipykernel)",
   "language": "python",
   "name": "python3"
  },
  "language_info": {
   "codemirror_mode": {
    "name": "ipython",
    "version": 3
   },
   "file_extension": ".py",
   "mimetype": "text/x-python",
   "name": "python",
   "nbconvert_exporter": "python",
   "pygments_lexer": "ipython3",
   "version": "3.10.9"
  }
 },
 "nbformat": 4,
 "nbformat_minor": 5
}
